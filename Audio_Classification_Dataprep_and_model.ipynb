{
  "nbformat": 4,
  "nbformat_minor": 0,
  "metadata": {
    "colab": {
      "name": "Audio Classification Dataprep and model.ipynb",
      "provenance": [],
      "collapsed_sections": [],
      "mount_file_id": "1DDJO_oSiThSUsv2t7y4CyMdbLUHYp3Db",
      "authorship_tag": "ABX9TyNS1r9OnI330chMpXYlVB5M",
      "include_colab_link": true
    },
    "kernelspec": {
      "name": "python3",
      "display_name": "Python 3"
    },
    "language_info": {
      "name": "python"
    },
    "accelerator": "GPU"
  },
  "cells": [
    {
      "cell_type": "markdown",
      "metadata": {
        "id": "view-in-github",
        "colab_type": "text"
      },
      "source": [
        "<a href=\"https://colab.research.google.com/github/Rahulraj31/AudioClassification/blob/main/Audio_Classification_Dataprep_and_model.ipynb\" target=\"_parent\"><img src=\"https://colab.research.google.com/assets/colab-badge.svg\" alt=\"Open In Colab\"/></a>"
      ]
    },
    {
      "cell_type": "markdown",
      "metadata": {
        "id": "2dKO5fqR-vz2"
      },
      "source": [
        "# Audio Classification using ML/DL\n",
        "\n",
        "dataset- https://urbansounddataset.weebly.com/download-urbansound8k.html"
      ]
    },
    {
      "cell_type": "code",
      "metadata": {
        "id": "lcPQYojUeIpT"
      },
      "source": [
        "import tarfile\n",
        "  \n",
        "# open file\n",
        "file = tarfile.open('/content/drive/MyDrive/UrbanSound8K.tar.gz')\n",
        "  \n",
        "# extracting file\n",
        "file.extractall('/content')\n",
        "  \n",
        "file.close()"
      ],
      "execution_count": 1,
      "outputs": []
    },
    {
      "cell_type": "code",
      "metadata": {
        "id": "CxAyKpr05Znz"
      },
      "source": [
        "import  matplotlib.pyplot as plt\n",
        "%matplotlib inline"
      ],
      "execution_count": 2,
      "outputs": []
    },
    {
      "cell_type": "code",
      "metadata": {
        "id": "IQfUAtCQ59-1"
      },
      "source": [
        "filename=\"/content/UrbanSound8K/audio/fold1/101415-3-0-3.wav\" #dog voice"
      ],
      "execution_count": null,
      "outputs": []
    },
    {
      "cell_type": "code",
      "metadata": {
        "id": "r9n3ylNn9FQU"
      },
      "source": [
        "# Let's read a sample data\n",
        "import librosa\n",
        "audio_file_path=\"UrbanSound8K/audio/fold1/101415-3-0-3.wav\"\n",
        "librosa_audio_data,librosa_sample_rate = librosa.load(audio_file_path)"
      ],
      "execution_count": 3,
      "outputs": []
    },
    {
      "cell_type": "code",
      "metadata": {
        "colab": {
          "base_uri": "https://localhost:8080/"
        },
        "id": "tl6Gg4iK598D",
        "outputId": "c26b11a9-64b7-4295-9f71-1e8e214d1edc"
      },
      "source": [
        "print(librosa_audio_data)"
      ],
      "execution_count": 4,
      "outputs": [
        {
          "output_type": "stream",
          "text": [
            "[-0.00060348 -0.00104231 -0.00083736 ... -0.00025618 -0.00023532\n",
            " -0.00033718]\n"
          ],
          "name": "stdout"
        }
      ]
    },
    {
      "cell_type": "code",
      "metadata": {
        "colab": {
          "base_uri": "https://localhost:8080/",
          "height": 256
        },
        "id": "E_PEqrX9595H",
        "outputId": "f4c29ef2-952b-49fa-8d0d-0107fded7fd7"
      },
      "source": [
        "# Lets plot it \n",
        "import matplotlib.pyplot as plt\n",
        "%matplotlib inline\n",
        "# original audio with 1 channel\n",
        "plt.figure(figsize=(12,4))\n",
        "plt.plot(librosa_audio_data)"
      ],
      "execution_count": 5,
      "outputs": [
        {
          "output_type": "execute_result",
          "data": {
            "text/plain": [
              "[<matplotlib.lines.Line2D at 0x7f445f3b7a10>]"
            ]
          },
          "metadata": {
            "tags": []
          },
          "execution_count": 5
        },
        {
          "output_type": "display_data",
          "data": {
            "image/png": "[encoded data removed]",
            "text/plain": [
              "<Figure size 864x288 with 1 Axes>"
            ]
          },
          "metadata": {
            "tags": [],
            "needs_background": "light"
          }
        }
      ]
    },
    {
      "cell_type": "markdown",
      "metadata": {
        "id": "s3D216Fs_xV0"
      },
      "source": [
        "### Observation\n",
        "\n",
        "Here Librosa converts the signal to mono meaning the channel will always be 1"
      ]
    },
    {
      "cell_type": "code",
      "metadata": {
        "id": "e8ZOmH50_wrH"
      },
      "source": [
        "## lets Read with scipy\n",
        "from scipy.io import wavfile as wav\n",
        "wav_sample_rate,wav_audio_data = wav.read(audio_file_path)"
      ],
      "execution_count": 6,
      "outputs": []
    },
    {
      "cell_type": "code",
      "metadata": {
        "id": "fUU6oKVp592f",
        "colab": {
          "base_uri": "https://localhost:8080/"
        },
        "outputId": "e88c9348-5584-4650-ada6-e2a2fb899a83"
      },
      "source": [
        "wav_audio_data"
      ],
      "execution_count": 7,
      "outputs": [
        {
          "output_type": "execute_result",
          "data": {
            "text/plain": [
              "array([-27, -30, -31, ...,  -9, -10, -12], dtype=int16)"
            ]
          },
          "metadata": {
            "tags": []
          },
          "execution_count": 7
        }
      ]
    },
    {
      "cell_type": "code",
      "metadata": {
        "id": "DsgpF-DQ59zp",
        "colab": {
          "base_uri": "https://localhost:8080/",
          "height": 249
        },
        "outputId": "0c7b621c-3ba7-42e7-8f3c-d9cbab6709fa"
      },
      "source": [
        "## Lets plot it \n",
        "plt.figure(figsize=(12,4))\n",
        "plt.plot(wav_audio_data)"
      ],
      "execution_count": 8,
      "outputs": [
        {
          "output_type": "execute_result",
          "data": {
            "text/plain": [
              "[<matplotlib.lines.Line2D at 0x7f445f31c0d0>]"
            ]
          },
          "metadata": {
            "tags": []
          },
          "execution_count": 8
        },
        {
          "output_type": "display_data",
          "data": {
            "image/png": "[encoded data removed]",
            "text/plain": [
              "<Figure size 864x288 with 1 Axes>"
            ]
          },
          "metadata": {
            "tags": [],
            "needs_background": "light"
          }
        }
      ]
    },
    {
      "cell_type": "markdown",
      "metadata": {
        "id": "YPaLtarJNUAn"
      },
      "source": [
        "## Extract Features\n",
        "Here we will be using Mel-Frequency Cepstral Coefficients(MFCC) from the audio samples. The MFCC summarises the frequency distribution across the window size, so it is possible to analyse both the frequency and time characteristics of the sound. These audio representations will allow us to identify features for classification.\n",
        "\n",
        "**Ref video- https://www.youtube.com/watch?v=4_SH2nfbQZ8&t=0s**"
      ]
    },
    {
      "cell_type": "code",
      "metadata": {
        "id": "zoQixo3i59w6",
        "colab": {
          "base_uri": "https://localhost:8080/"
        },
        "outputId": "70da2204-1263-4ef4-ceb9-e4876cf5d6bb"
      },
      "source": [
        "mfccs = librosa.feature.mfcc(y=librosa_audio_data, sr=librosa_sample_rate, n_mfcc=40)\n",
        "print(mfccs.shape)"
      ],
      "execution_count": 9,
      "outputs": [
        {
          "output_type": "stream",
          "text": [
            "(40, 173)\n"
          ],
          "name": "stdout"
        }
      ]
    },
    {
      "cell_type": "markdown",
      "metadata": {
        "id": "mHRpDqMKNZr-"
      },
      "source": [
        "\n",
        "## Extracting MFCC's For every audio file"
      ]
    },
    {
      "cell_type": "code",
      "metadata": {
        "id": "hoOjISKM59t9",
        "colab": {
          "base_uri": "https://localhost:8080/",
          "height": 290
        },
        "outputId": "55b34254-2b19-4486-9a3f-30922a877444"
      },
      "source": [
        "import pandas as pd\n",
        "import os\n",
        "import librosa\n",
        "\n",
        "audio_dataset_path='UrbanSound8K/audio/'\n",
        "metadata=pd.read_csv('UrbanSound8K/metadata/UrbanSound8K.csv')\n",
        "metadata.head()"
      ],
      "execution_count": 10,
      "outputs": [
        {
          "output_type": "execute_result",
          "data": {
            "text/html": [
              "<div>\n",
              "<style scoped>\n",
              "    .dataframe tbody tr th:only-of-type {\n",
              "        vertical-align: middle;\n",
              "    }\n",
              "\n",
              "    .dataframe tbody tr th {\n",
              "        vertical-align: top;\n",
              "    }\n",
              "\n",
              "    .dataframe thead th {\n",
              "        text-align: right;\n",
              "    }\n",
              "</style>\n",
              "<table border=\"1\" class=\"dataframe\">\n",
              "  <thead>\n",
              "    <tr style=\"text-align: right;\">\n",
              "      <th></th>\n",
              "      <th>slice_file_name</th>\n",
              "      <th>fsID</th>\n",
              "      <th>start</th>\n",
              "      <th>end</th>\n",
              "      <th>salience</th>\n",
              "      <th>fold</th>\n",
              "      <th>classID</th>\n",
              "      <th>class</th>\n",
              "    </tr>\n",
              "  </thead>\n",
              "  <tbody>\n",
              "    <tr>\n",
              "      <th>0</th>\n",
              "      <td>100032-3-0-0.wav</td>\n",
              "      <td>100032</td>\n",
              "      <td>0.0</td>\n",
              "      <td>0.317551</td>\n",
              "      <td>1</td>\n",
              "      <td>5</td>\n",
              "      <td>3</td>\n",
              "      <td>dog_bark</td>\n",
              "    </tr>\n",
              "    <tr>\n",
              "      <th>1</th>\n",
              "      <td>100263-2-0-117.wav</td>\n",
              "      <td>100263</td>\n",
              "      <td>58.5</td>\n",
              "      <td>62.500000</td>\n",
              "      <td>1</td>\n",
              "      <td>5</td>\n",
              "      <td>2</td>\n",
              "      <td>children_playing</td>\n",
              "    </tr>\n",
              "    <tr>\n",
              "      <th>2</th>\n",
              "      <td>100263-2-0-121.wav</td>\n",
              "      <td>100263</td>\n",
              "      <td>60.5</td>\n",
              "      <td>64.500000</td>\n",
              "      <td>1</td>\n",
              "      <td>5</td>\n",
              "      <td>2</td>\n",
              "      <td>children_playing</td>\n",
              "    </tr>\n",
              "    <tr>\n",
              "      <th>3</th>\n",
              "      <td>100263-2-0-126.wav</td>\n",
              "      <td>100263</td>\n",
              "      <td>63.0</td>\n",
              "      <td>67.000000</td>\n",
              "      <td>1</td>\n",
              "      <td>5</td>\n",
              "      <td>2</td>\n",
              "      <td>children_playing</td>\n",
              "    </tr>\n",
              "    <tr>\n",
              "      <th>4</th>\n",
              "      <td>100263-2-0-137.wav</td>\n",
              "      <td>100263</td>\n",
              "      <td>68.5</td>\n",
              "      <td>72.500000</td>\n",
              "      <td>1</td>\n",
              "      <td>5</td>\n",
              "      <td>2</td>\n",
              "      <td>children_playing</td>\n",
              "    </tr>\n",
              "  </tbody>\n",
              "</table>\n",
              "</div>"
            ],
            "text/plain": [
              "      slice_file_name    fsID  start  ...  fold  classID             class\n",
              "0    100032-3-0-0.wav  100032    0.0  ...     5        3          dog_bark\n",
              "1  100263-2-0-117.wav  100263   58.5  ...     5        2  children_playing\n",
              "2  100263-2-0-121.wav  100263   60.5  ...     5        2  children_playing\n",
              "3  100263-2-0-126.wav  100263   63.0  ...     5        2  children_playing\n",
              "4  100263-2-0-137.wav  100263   68.5  ...     5        2  children_playing\n",
              "\n",
              "[5 rows x 8 columns]"
            ]
          },
          "metadata": {
            "tags": []
          },
          "execution_count": 10
        }
      ]
    },
    {
      "cell_type": "code",
      "metadata": {
        "id": "62o8yp6s59rD"
      },
      "source": [
        "def features_extractor(file):\n",
        "    audio, sample_rate = librosa.load(file_name, res_type='kaiser_fast') \n",
        "    mfccs_features = librosa.feature.mfcc(y=audio, sr=sample_rate, n_mfcc=40)\n",
        "    mfccs_scaled_features = np.mean(mfccs_features.T,axis=0)\n",
        "    \n",
        "    return mfccs_scaled_features"
      ],
      "execution_count": 11,
      "outputs": []
    },
    {
      "cell_type": "code",
      "metadata": {
        "id": "zzIbOpQ559jX",
        "colab": {
          "base_uri": "https://localhost:8080/"
        },
        "outputId": "4ccbe302-7174-418c-869f-3ca2e44fac99"
      },
      "source": [
        "import numpy as np\n",
        "from tqdm import tqdm\n",
        "\n",
        "# Now we iterate through every audio file and extract features \n",
        "# using Mel-Frequency Cepstral Coefficients\n",
        "\n",
        "extracted_features=[]\n",
        "\n",
        "for index_num,row in tqdm(metadata.iterrows()):\n",
        "    file_name = os.path.join(os.path.abspath(audio_dataset_path),'fold'+str(row[\"fold\"])+'/',str(row[\"slice_file_name\"]))\n",
        "    final_class_labels=row[\"class\"]\n",
        "    data=features_extractor(file_name)\n",
        "    extracted_features.append([data,final_class_labels])"
      ],
      "execution_count": 12,
      "outputs": [
        {
          "output_type": "stream",
          "text": [
            "3554it [04:19, 13.23it/s]/usr/local/lib/python3.7/dist-packages/librosa/core/spectrum.py:224: UserWarning: n_fft=2048 is too small for input signal of length=1323\n",
            "  n_fft, y.shape[-1]\n",
            "8325it [09:55, 18.23it/s]/usr/local/lib/python3.7/dist-packages/librosa/core/spectrum.py:224: UserWarning: n_fft=2048 is too small for input signal of length=1103\n",
            "  n_fft, y.shape[-1]\n",
            "/usr/local/lib/python3.7/dist-packages/librosa/core/spectrum.py:224: UserWarning: n_fft=2048 is too small for input signal of length=1523\n",
            "  n_fft, y.shape[-1]\n",
            "8732it [10:22, 14.03it/s]\n"
          ],
          "name": "stderr"
        }
      ]
    },
    {
      "cell_type": "markdown",
      "metadata": {
        "id": "j7ZqsXEMNoH4"
      },
      "source": [
        "## Converting extracted features to dataframe"
      ]
    },
    {
      "cell_type": "code",
      "metadata": {
        "colab": {
          "base_uri": "https://localhost:8080/",
          "height": 203
        },
        "id": "4O4qWXjnNgv5",
        "outputId": "8e5360fa-8d67-487f-b52a-6de075324e32"
      },
      "source": [
        "extracted_features_df=pd.DataFrame(extracted_features,columns=['feature','class'])\n",
        "extracted_features_df.head()"
      ],
      "execution_count": 13,
      "outputs": [
        {
          "output_type": "execute_result",
          "data": {
            "text/html": [
              "<div>\n",
              "<style scoped>\n",
              "    .dataframe tbody tr th:only-of-type {\n",
              "        vertical-align: middle;\n",
              "    }\n",
              "\n",
              "    .dataframe tbody tr th {\n",
              "        vertical-align: top;\n",
              "    }\n",
              "\n",
              "    .dataframe thead th {\n",
              "        text-align: right;\n",
              "    }\n",
              "</style>\n",
              "<table border=\"1\" class=\"dataframe\">\n",
              "  <thead>\n",
              "    <tr style=\"text-align: right;\">\n",
              "      <th></th>\n",
              "      <th>feature</th>\n",
              "      <th>class</th>\n",
              "    </tr>\n",
              "  </thead>\n",
              "  <tbody>\n",
              "    <tr>\n",
              "      <th>0</th>\n",
              "      <td>[-215.79301, 71.66612, -131.81377, -52.09133, ...</td>\n",
              "      <td>dog_bark</td>\n",
              "    </tr>\n",
              "    <tr>\n",
              "      <th>1</th>\n",
              "      <td>[-424.68677, 110.56227, -54.148235, 62.01074, ...</td>\n",
              "      <td>children_playing</td>\n",
              "    </tr>\n",
              "    <tr>\n",
              "      <th>2</th>\n",
              "      <td>[-459.56467, 122.800354, -47.92471, 53.265705,...</td>\n",
              "      <td>children_playing</td>\n",
              "    </tr>\n",
              "    <tr>\n",
              "      <th>3</th>\n",
              "      <td>[-414.55377, 102.896904, -36.66495, 54.18041, ...</td>\n",
              "      <td>children_playing</td>\n",
              "    </tr>\n",
              "    <tr>\n",
              "      <th>4</th>\n",
              "      <td>[-447.397, 115.0954, -53.809113, 61.60859, 1.6...</td>\n",
              "      <td>children_playing</td>\n",
              "    </tr>\n",
              "  </tbody>\n",
              "</table>\n",
              "</div>"
            ],
            "text/plain": [
              "                                             feature             class\n",
              "0  [-215.79301, 71.66612, -131.81377, -52.09133, ...          dog_bark\n",
              "1  [-424.68677, 110.56227, -54.148235, 62.01074, ...  children_playing\n",
              "2  [-459.56467, 122.800354, -47.92471, 53.265705,...  children_playing\n",
              "3  [-414.55377, 102.896904, -36.66495, 54.18041, ...  children_playing\n",
              "4  [-447.397, 115.0954, -53.809113, 61.60859, 1.6...  children_playing"
            ]
          },
          "metadata": {
            "tags": []
          },
          "execution_count": 13
        }
      ]
    },
    {
      "cell_type": "code",
      "metadata": {
        "id": "z3fE35xTNq46"
      },
      "source": [
        "### Split the dataset into independent and dependent dataset\n",
        "X=np.array(extracted_features_df['feature'].tolist())\n",
        "y=np.array(extracted_features_df['class'].tolist())"
      ],
      "execution_count": 14,
      "outputs": []
    },
    {
      "cell_type": "code",
      "metadata": {
        "colab": {
          "base_uri": "https://localhost:8080/"
        },
        "id": "wKBDpZa3NtfA",
        "outputId": "a1489262-3f05-49ae-d401-669b32d9269e"
      },
      "source": [
        "X.shape, y.shape"
      ],
      "execution_count": 15,
      "outputs": [
        {
          "output_type": "execute_result",
          "data": {
            "text/plain": [
              "((8732, 40), (8732,))"
            ]
          },
          "metadata": {
            "tags": []
          },
          "execution_count": 15
        }
      ]
    },
    {
      "cell_type": "code",
      "metadata": {
        "id": "fCSRMugKNtcL"
      },
      "source": [
        "# Label Encoding\n",
        "y=np.array(pd.get_dummies(y))"
      ],
      "execution_count": 16,
      "outputs": []
    },
    {
      "cell_type": "code",
      "metadata": {
        "colab": {
          "base_uri": "https://localhost:8080/"
        },
        "id": "_vlPpUaXNtY_",
        "outputId": "4dc492b2-c30f-4ac5-c04a-43730d65c10c"
      },
      "source": [
        "y.shape"
      ],
      "execution_count": 17,
      "outputs": [
        {
          "output_type": "execute_result",
          "data": {
            "text/plain": [
              "(8732, 10)"
            ]
          },
          "metadata": {
            "tags": []
          },
          "execution_count": 17
        }
      ]
    },
    {
      "cell_type": "code",
      "metadata": {
        "id": "zYQIAy67NtV-"
      },
      "source": [
        "### Train Test Split\n",
        "from sklearn.model_selection import train_test_split\n",
        "X_train,X_test,y_train,y_test=train_test_split(X,y,test_size=0.25,random_state=0)"
      ],
      "execution_count": 18,
      "outputs": []
    },
    {
      "cell_type": "code",
      "metadata": {
        "colab": {
          "base_uri": "https://localhost:8080/"
        },
        "id": "thEc5-LcNtQz",
        "outputId": "54241153-2dc7-4c50-b52c-f312507f5ca6"
      },
      "source": [
        "X_train.shape,X_test.shape,y_train.shape,y_test.shape"
      ],
      "execution_count": 19,
      "outputs": [
        {
          "output_type": "execute_result",
          "data": {
            "text/plain": [
              "((6549, 40), (2183, 40), (6549, 10), (2183, 10))"
            ]
          },
          "metadata": {
            "tags": []
          },
          "execution_count": 19
        }
      ]
    },
    {
      "cell_type": "markdown",
      "metadata": {
        "id": "jCtWiIlbN6lv"
      },
      "source": [
        "## Model Creation"
      ]
    },
    {
      "cell_type": "code",
      "metadata": {
        "id": "TWuMYhkxN6EH"
      },
      "source": [
        "import tensorflow as tf\n",
        "from tensorflow.keras.models import Sequential\n",
        "from tensorflow.keras.layers import Dense,Dropout,Activation,Flatten\n",
        "from tensorflow.keras.optimizers import Adam\n",
        "from sklearn import metrics"
      ],
      "execution_count": 20,
      "outputs": []
    },
    {
      "cell_type": "code",
      "metadata": {
        "id": "VA1tfFMkNtOD"
      },
      "source": [
        "\n",
        "### No of classes\n",
        "num_labels=y.shape[1]\n"
      ],
      "execution_count": 21,
      "outputs": []
    },
    {
      "cell_type": "code",
      "metadata": {
        "id": "eGn4dvv3Ry0f"
      },
      "source": [
        "model=Sequential()\n",
        "###first layer\n",
        "model.add(Dense(100,input_shape=(40,)))\n",
        "model.add(Activation('relu'))\n",
        "model.add(Dropout(0.5))\n",
        "###second layer\n",
        "model.add(Dense(200))\n",
        "model.add(Activation('relu'))\n",
        "model.add(Dropout(0.5))\n",
        "###third layer\n",
        "model.add(Dense(100))\n",
        "model.add(Activation('relu'))\n",
        "model.add(Dropout(0.5))\n",
        "\n",
        "###final layer\n",
        "model.add(Dense(num_labels))\n",
        "model.add(Activation('softmax'))"
      ],
      "execution_count": 22,
      "outputs": []
    },
    {
      "cell_type": "code",
      "metadata": {
        "colab": {
          "base_uri": "https://localhost:8080/"
        },
        "id": "t_Tu9ei8R0Ky",
        "outputId": "d0f2bd03-b03a-4522-f9a8-eba92026c2a1"
      },
      "source": [
        "model.summary()"
      ],
      "execution_count": 23,
      "outputs": [
        {
          "output_type": "stream",
          "text": [
            "Model: \"sequential\"\n",
            "_________________________________________________________________\n",
            "Layer (type)                 Output Shape              Param #   \n",
            "=================================================================\n",
            "dense (Dense)                (None, 100)               4100      \n",
            "_________________________________________________________________\n",
            "activation (Activation)      (None, 100)               0         \n",
            "_________________________________________________________________\n",
            "dropout (Dropout)            (None, 100)               0         \n",
            "_________________________________________________________________\n",
            "dense_1 (Dense)              (None, 200)               20200     \n",
            "_________________________________________________________________\n",
            "activation_1 (Activation)    (None, 200)               0         \n",
            "_________________________________________________________________\n",
            "dropout_1 (Dropout)          (None, 200)               0         \n",
            "_________________________________________________________________\n",
            "dense_2 (Dense)              (None, 100)               20100     \n",
            "_________________________________________________________________\n",
            "activation_2 (Activation)    (None, 100)               0         \n",
            "_________________________________________________________________\n",
            "dropout_2 (Dropout)          (None, 100)               0         \n",
            "_________________________________________________________________\n",
            "dense_3 (Dense)              (None, 10)                1010      \n",
            "_________________________________________________________________\n",
            "activation_3 (Activation)    (None, 10)                0         \n",
            "=================================================================\n",
            "Total params: 45,410\n",
            "Trainable params: 45,410\n",
            "Non-trainable params: 0\n",
            "_________________________________________________________________\n"
          ],
          "name": "stdout"
        }
      ]
    },
    {
      "cell_type": "code",
      "metadata": {
        "id": "AB_CNWXVR2Fp"
      },
      "source": [
        "model.compile(loss='categorical_crossentropy',\n",
        "              metrics=['accuracy'],optimizer='adam')"
      ],
      "execution_count": 24,
      "outputs": []
    },
    {
      "cell_type": "code",
      "metadata": {
        "colab": {
          "base_uri": "https://localhost:8080/"
        },
        "id": "-1rhNRqwR3np",
        "outputId": "acfe9ecf-0f0d-4e4b-8d3a-434f4cdbb099"
      },
      "source": [
        "## Trianing my model\n",
        "from tensorflow.keras.callbacks import ModelCheckpoint\n",
        "from datetime import datetime \n",
        "\n",
        "num_epochs = 100\n",
        "num_batch_size = 32\n",
        "\n",
        "checkpointer = ModelCheckpoint(filepath='saved_models/audio_classification.hdf5', \n",
        "                               verbose=1, save_best_only=True)\n",
        "start = datetime.now()\n",
        "\n",
        "model.fit(X_train, y_train, batch_size=num_batch_size, epochs=num_epochs, validation_data=(X_test, y_test), callbacks=[checkpointer], verbose=1)\n",
        "\n",
        "\n",
        "duration = datetime.now() - start\n",
        "print(\"Training completed in time: \", duration)"
      ],
      "execution_count": 38,
      "outputs": [
        {
          "output_type": "stream",
          "text": [
            "Epoch 1/100\n",
            "205/205 [==============================] - 1s 3ms/step - loss: 0.9842 - accuracy: 0.6711 - val_loss: 0.8093 - val_accuracy: 0.7403\n",
            "\n",
            "Epoch 00001: val_loss improved from inf to 0.80932, saving model to saved_models/audio_classification.hdf5\n",
            "Epoch 2/100\n",
            "205/205 [==============================] - 1s 3ms/step - loss: 0.9738 - accuracy: 0.6728 - val_loss: 0.8053 - val_accuracy: 0.7421\n",
            "\n",
            "Epoch 00002: val_loss improved from 0.80932 to 0.80525, saving model to saved_models/audio_classification.hdf5\n",
            "Epoch 3/100\n",
            "205/205 [==============================] - 1s 3ms/step - loss: 0.9872 - accuracy: 0.6642 - val_loss: 0.8121 - val_accuracy: 0.7393\n",
            "\n",
            "Epoch 00003: val_loss did not improve from 0.80525\n",
            "Epoch 4/100\n",
            "205/205 [==============================] - 1s 3ms/step - loss: 1.0061 - accuracy: 0.6619 - val_loss: 0.8192 - val_accuracy: 0.7421\n",
            "\n",
            "Epoch 00004: val_loss did not improve from 0.80525\n",
            "Epoch 5/100\n",
            "205/205 [==============================] - 1s 3ms/step - loss: 0.9719 - accuracy: 0.6716 - val_loss: 0.8067 - val_accuracy: 0.7481\n",
            "\n",
            "Epoch 00005: val_loss did not improve from 0.80525\n",
            "Epoch 6/100\n",
            "205/205 [==============================] - 1s 3ms/step - loss: 0.9710 - accuracy: 0.6740 - val_loss: 0.8316 - val_accuracy: 0.7366\n",
            "\n",
            "Epoch 00006: val_loss did not improve from 0.80525\n",
            "Epoch 7/100\n",
            "205/205 [==============================] - 1s 3ms/step - loss: 0.9834 - accuracy: 0.6604 - val_loss: 0.8030 - val_accuracy: 0.7568\n",
            "\n",
            "Epoch 00007: val_loss improved from 0.80525 to 0.80300, saving model to saved_models/audio_classification.hdf5\n",
            "Epoch 8/100\n",
            "205/205 [==============================] - 1s 3ms/step - loss: 0.9955 - accuracy: 0.6569 - val_loss: 0.8176 - val_accuracy: 0.7490\n",
            "\n",
            "Epoch 00008: val_loss did not improve from 0.80300\n",
            "Epoch 9/100\n",
            "205/205 [==============================] - 1s 3ms/step - loss: 0.9759 - accuracy: 0.6711 - val_loss: 0.8003 - val_accuracy: 0.7430\n",
            "\n",
            "Epoch 00009: val_loss improved from 0.80300 to 0.80025, saving model to saved_models/audio_classification.hdf5\n",
            "Epoch 10/100\n",
            "205/205 [==============================] - 1s 3ms/step - loss: 0.9746 - accuracy: 0.6711 - val_loss: 0.7971 - val_accuracy: 0.7448\n",
            "\n",
            "Epoch 00010: val_loss improved from 0.80025 to 0.79712, saving model to saved_models/audio_classification.hdf5\n",
            "Epoch 11/100\n",
            "205/205 [==============================] - 1s 3ms/step - loss: 0.9825 - accuracy: 0.6653 - val_loss: 0.8000 - val_accuracy: 0.7540\n",
            "\n",
            "Epoch 00011: val_loss did not improve from 0.79712\n",
            "Epoch 12/100\n",
            "205/205 [==============================] - 1s 3ms/step - loss: 0.9672 - accuracy: 0.6735 - val_loss: 0.8174 - val_accuracy: 0.7288\n",
            "\n",
            "Epoch 00012: val_loss did not improve from 0.79712\n",
            "Epoch 13/100\n",
            "205/205 [==============================] - 1s 3ms/step - loss: 0.9758 - accuracy: 0.6677 - val_loss: 0.7933 - val_accuracy: 0.7531\n",
            "\n",
            "Epoch 00013: val_loss improved from 0.79712 to 0.79333, saving model to saved_models/audio_classification.hdf5\n",
            "Epoch 14/100\n",
            "205/205 [==============================] - 1s 3ms/step - loss: 0.9788 - accuracy: 0.6612 - val_loss: 0.8007 - val_accuracy: 0.7554\n",
            "\n",
            "Epoch 00014: val_loss did not improve from 0.79333\n",
            "Epoch 15/100\n",
            "205/205 [==============================] - 1s 3ms/step - loss: 0.9574 - accuracy: 0.6764 - val_loss: 0.7916 - val_accuracy: 0.7490\n",
            "\n",
            "Epoch 00015: val_loss improved from 0.79333 to 0.79163, saving model to saved_models/audio_classification.hdf5\n",
            "Epoch 16/100\n",
            "205/205 [==============================] - 1s 3ms/step - loss: 0.9513 - accuracy: 0.6703 - val_loss: 0.7974 - val_accuracy: 0.7632\n",
            "\n",
            "Epoch 00016: val_loss did not improve from 0.79163\n",
            "Epoch 17/100\n",
            "205/205 [==============================] - 1s 3ms/step - loss: 0.9640 - accuracy: 0.6632 - val_loss: 0.7949 - val_accuracy: 0.7416\n",
            "\n",
            "Epoch 00017: val_loss did not improve from 0.79163\n",
            "Epoch 18/100\n",
            "205/205 [==============================] - 1s 3ms/step - loss: 0.9673 - accuracy: 0.6680 - val_loss: 0.8086 - val_accuracy: 0.7467\n",
            "\n",
            "Epoch 00018: val_loss did not improve from 0.79163\n",
            "Epoch 19/100\n",
            "205/205 [==============================] - 1s 3ms/step - loss: 0.9776 - accuracy: 0.6745 - val_loss: 0.7717 - val_accuracy: 0.7545\n",
            "\n",
            "Epoch 00019: val_loss improved from 0.79163 to 0.77166, saving model to saved_models/audio_classification.hdf5\n",
            "Epoch 20/100\n",
            "205/205 [==============================] - 1s 3ms/step - loss: 0.9600 - accuracy: 0.6711 - val_loss: 0.7596 - val_accuracy: 0.7581\n",
            "\n",
            "Epoch 00020: val_loss improved from 0.77166 to 0.75961, saving model to saved_models/audio_classification.hdf5\n",
            "Epoch 21/100\n",
            "205/205 [==============================] - 1s 3ms/step - loss: 0.9773 - accuracy: 0.6685 - val_loss: 0.7944 - val_accuracy: 0.7494\n",
            "\n",
            "Epoch 00021: val_loss did not improve from 0.75961\n",
            "Epoch 22/100\n",
            "205/205 [==============================] - 1s 3ms/step - loss: 0.9714 - accuracy: 0.6748 - val_loss: 0.7935 - val_accuracy: 0.7439\n",
            "\n",
            "Epoch 00022: val_loss did not improve from 0.75961\n",
            "Epoch 23/100\n",
            "205/205 [==============================] - 1s 3ms/step - loss: 0.9581 - accuracy: 0.6740 - val_loss: 0.8127 - val_accuracy: 0.7375\n",
            "\n",
            "Epoch 00023: val_loss did not improve from 0.75961\n",
            "Epoch 24/100\n",
            "205/205 [==============================] - 1s 3ms/step - loss: 0.9531 - accuracy: 0.6751 - val_loss: 0.7939 - val_accuracy: 0.7526\n",
            "\n",
            "Epoch 00024: val_loss did not improve from 0.75961\n",
            "Epoch 25/100\n",
            "205/205 [==============================] - 1s 3ms/step - loss: 0.9787 - accuracy: 0.6708 - val_loss: 0.8087 - val_accuracy: 0.7375\n",
            "\n",
            "Epoch 00025: val_loss did not improve from 0.75961\n",
            "Epoch 26/100\n",
            "205/205 [==============================] - 1s 3ms/step - loss: 0.9536 - accuracy: 0.6708 - val_loss: 0.7955 - val_accuracy: 0.7508\n",
            "\n",
            "Epoch 00026: val_loss did not improve from 0.75961\n",
            "Epoch 27/100\n",
            "205/205 [==============================] - 1s 3ms/step - loss: 0.9492 - accuracy: 0.6740 - val_loss: 0.7858 - val_accuracy: 0.7471\n",
            "\n",
            "Epoch 00027: val_loss did not improve from 0.75961\n",
            "Epoch 28/100\n",
            "205/205 [==============================] - 1s 3ms/step - loss: 0.9342 - accuracy: 0.6772 - val_loss: 0.7811 - val_accuracy: 0.7490\n",
            "\n",
            "Epoch 00028: val_loss did not improve from 0.75961\n",
            "Epoch 29/100\n",
            "205/205 [==============================] - 1s 3ms/step - loss: 0.9402 - accuracy: 0.6722 - val_loss: 0.7927 - val_accuracy: 0.7453\n",
            "\n",
            "Epoch 00029: val_loss did not improve from 0.75961\n",
            "Epoch 30/100\n",
            "205/205 [==============================] - 1s 3ms/step - loss: 0.9456 - accuracy: 0.6694 - val_loss: 0.7841 - val_accuracy: 0.7481\n",
            "\n",
            "Epoch 00030: val_loss did not improve from 0.75961\n",
            "Epoch 31/100\n",
            "205/205 [==============================] - 1s 3ms/step - loss: 0.9424 - accuracy: 0.6790 - val_loss: 0.7880 - val_accuracy: 0.7513\n",
            "\n",
            "Epoch 00031: val_loss did not improve from 0.75961\n",
            "Epoch 32/100\n",
            "205/205 [==============================] - 1s 3ms/step - loss: 0.9468 - accuracy: 0.6760 - val_loss: 0.8029 - val_accuracy: 0.7426\n",
            "\n",
            "Epoch 00032: val_loss did not improve from 0.75961\n",
            "Epoch 33/100\n",
            "205/205 [==============================] - 1s 3ms/step - loss: 0.9646 - accuracy: 0.6781 - val_loss: 0.7882 - val_accuracy: 0.7476\n",
            "\n",
            "Epoch 00033: val_loss did not improve from 0.75961\n",
            "Epoch 34/100\n",
            "205/205 [==============================] - 1s 3ms/step - loss: 0.9540 - accuracy: 0.6801 - val_loss: 0.7968 - val_accuracy: 0.7595\n",
            "\n",
            "Epoch 00034: val_loss did not improve from 0.75961\n",
            "Epoch 35/100\n",
            "205/205 [==============================] - 1s 3ms/step - loss: 0.9334 - accuracy: 0.6821 - val_loss: 0.7839 - val_accuracy: 0.7458\n",
            "\n",
            "Epoch 00035: val_loss did not improve from 0.75961\n",
            "Epoch 36/100\n",
            "205/205 [==============================] - 1s 3ms/step - loss: 0.9376 - accuracy: 0.6783 - val_loss: 0.7681 - val_accuracy: 0.7577\n",
            "\n",
            "Epoch 00036: val_loss did not improve from 0.75961\n",
            "Epoch 37/100\n",
            "205/205 [==============================] - 1s 3ms/step - loss: 0.9433 - accuracy: 0.6783 - val_loss: 0.7757 - val_accuracy: 0.7581\n",
            "\n",
            "Epoch 00037: val_loss did not improve from 0.75961\n",
            "Epoch 38/100\n",
            "205/205 [==============================] - 1s 3ms/step - loss: 0.9466 - accuracy: 0.6738 - val_loss: 0.7938 - val_accuracy: 0.7371\n",
            "\n",
            "Epoch 00038: val_loss did not improve from 0.75961\n",
            "Epoch 39/100\n",
            "205/205 [==============================] - 1s 3ms/step - loss: 0.9378 - accuracy: 0.6858 - val_loss: 0.7639 - val_accuracy: 0.7563\n",
            "\n",
            "Epoch 00039: val_loss did not improve from 0.75961\n",
            "Epoch 40/100\n",
            "205/205 [==============================] - 1s 3ms/step - loss: 0.9490 - accuracy: 0.6812 - val_loss: 0.7662 - val_accuracy: 0.7595\n",
            "\n",
            "Epoch 00040: val_loss did not improve from 0.75961\n",
            "Epoch 41/100\n",
            "205/205 [==============================] - 1s 3ms/step - loss: 0.9411 - accuracy: 0.6716 - val_loss: 0.7808 - val_accuracy: 0.7604\n",
            "\n",
            "Epoch 00041: val_loss did not improve from 0.75961\n",
            "Epoch 42/100\n",
            "205/205 [==============================] - 1s 3ms/step - loss: 0.9442 - accuracy: 0.6856 - val_loss: 0.7744 - val_accuracy: 0.7618\n",
            "\n",
            "Epoch 00042: val_loss did not improve from 0.75961\n",
            "Epoch 43/100\n",
            "205/205 [==============================] - 1s 3ms/step - loss: 0.9316 - accuracy: 0.6803 - val_loss: 0.7524 - val_accuracy: 0.7714\n",
            "\n",
            "Epoch 00043: val_loss improved from 0.75961 to 0.75235, saving model to saved_models/audio_classification.hdf5\n",
            "Epoch 44/100\n",
            "205/205 [==============================] - 1s 3ms/step - loss: 0.9268 - accuracy: 0.6859 - val_loss: 0.7775 - val_accuracy: 0.7609\n",
            "\n",
            "Epoch 00044: val_loss did not improve from 0.75235\n",
            "Epoch 45/100\n",
            "205/205 [==============================] - 1s 3ms/step - loss: 0.9586 - accuracy: 0.6734 - val_loss: 0.7714 - val_accuracy: 0.7650\n",
            "\n",
            "Epoch 00045: val_loss did not improve from 0.75235\n",
            "Epoch 46/100\n",
            "205/205 [==============================] - 1s 3ms/step - loss: 0.9189 - accuracy: 0.6883 - val_loss: 0.7576 - val_accuracy: 0.7636\n",
            "\n",
            "Epoch 00046: val_loss did not improve from 0.75235\n",
            "Epoch 47/100\n",
            "205/205 [==============================] - 1s 3ms/step - loss: 0.9321 - accuracy: 0.6838 - val_loss: 0.7801 - val_accuracy: 0.7549\n",
            "\n",
            "Epoch 00047: val_loss did not improve from 0.75235\n",
            "Epoch 48/100\n",
            "205/205 [==============================] - 1s 3ms/step - loss: 0.9608 - accuracy: 0.6716 - val_loss: 0.7705 - val_accuracy: 0.7481\n",
            "\n",
            "Epoch 00048: val_loss did not improve from 0.75235\n",
            "Epoch 49/100\n",
            "205/205 [==============================] - 1s 3ms/step - loss: 0.9499 - accuracy: 0.6809 - val_loss: 0.7553 - val_accuracy: 0.7623\n",
            "\n",
            "Epoch 00049: val_loss did not improve from 0.75235\n",
            "Epoch 50/100\n",
            "205/205 [==============================] - 1s 3ms/step - loss: 0.9327 - accuracy: 0.6858 - val_loss: 0.7724 - val_accuracy: 0.7572\n",
            "\n",
            "Epoch 00050: val_loss did not improve from 0.75235\n",
            "Epoch 51/100\n",
            "205/205 [==============================] - 1s 3ms/step - loss: 0.9186 - accuracy: 0.6862 - val_loss: 0.7506 - val_accuracy: 0.7581\n",
            "\n",
            "Epoch 00051: val_loss improved from 0.75235 to 0.75056, saving model to saved_models/audio_classification.hdf5\n",
            "Epoch 52/100\n",
            "205/205 [==============================] - 1s 3ms/step - loss: 0.9415 - accuracy: 0.6772 - val_loss: 0.7571 - val_accuracy: 0.7627\n",
            "\n",
            "Epoch 00052: val_loss did not improve from 0.75056\n",
            "Epoch 53/100\n",
            "205/205 [==============================] - 1s 3ms/step - loss: 0.9278 - accuracy: 0.6824 - val_loss: 0.7650 - val_accuracy: 0.7558\n",
            "\n",
            "Epoch 00053: val_loss did not improve from 0.75056\n",
            "Epoch 54/100\n",
            "205/205 [==============================] - 1s 3ms/step - loss: 0.9152 - accuracy: 0.6885 - val_loss: 0.7471 - val_accuracy: 0.7678\n",
            "\n",
            "Epoch 00054: val_loss improved from 0.75056 to 0.74713, saving model to saved_models/audio_classification.hdf5\n",
            "Epoch 55/100\n",
            "205/205 [==============================] - 1s 3ms/step - loss: 0.9125 - accuracy: 0.6871 - val_loss: 0.7709 - val_accuracy: 0.7687\n",
            "\n",
            "Epoch 00055: val_loss did not improve from 0.74713\n",
            "Epoch 56/100\n",
            "205/205 [==============================] - 1s 3ms/step - loss: 0.9266 - accuracy: 0.6851 - val_loss: 0.7497 - val_accuracy: 0.7590\n",
            "\n",
            "Epoch 00056: val_loss did not improve from 0.74713\n",
            "Epoch 57/100\n",
            "205/205 [==============================] - 1s 3ms/step - loss: 0.9407 - accuracy: 0.6835 - val_loss: 0.7568 - val_accuracy: 0.7664\n",
            "\n",
            "Epoch 00057: val_loss did not improve from 0.74713\n",
            "Epoch 58/100\n",
            "205/205 [==============================] - 1s 3ms/step - loss: 0.9217 - accuracy: 0.6865 - val_loss: 0.7442 - val_accuracy: 0.7682\n",
            "\n",
            "Epoch 00058: val_loss improved from 0.74713 to 0.74418, saving model to saved_models/audio_classification.hdf5\n",
            "Epoch 59/100\n",
            "205/205 [==============================] - 1s 3ms/step - loss: 0.9316 - accuracy: 0.6821 - val_loss: 0.7584 - val_accuracy: 0.7590\n",
            "\n",
            "Epoch 00059: val_loss did not improve from 0.74418\n",
            "Epoch 60/100\n",
            "205/205 [==============================] - 1s 3ms/step - loss: 0.9417 - accuracy: 0.6841 - val_loss: 0.7648 - val_accuracy: 0.7645\n",
            "\n",
            "Epoch 00060: val_loss did not improve from 0.74418\n",
            "Epoch 61/100\n",
            "205/205 [==============================] - 1s 3ms/step - loss: 0.9234 - accuracy: 0.6874 - val_loss: 0.7483 - val_accuracy: 0.7673\n",
            "\n",
            "Epoch 00061: val_loss did not improve from 0.74418\n",
            "Epoch 62/100\n",
            "205/205 [==============================] - 1s 3ms/step - loss: 0.9259 - accuracy: 0.6951 - val_loss: 0.7621 - val_accuracy: 0.7691\n",
            "\n",
            "Epoch 00062: val_loss did not improve from 0.74418\n",
            "Epoch 63/100\n",
            "205/205 [==============================] - 1s 3ms/step - loss: 0.9256 - accuracy: 0.6858 - val_loss: 0.7549 - val_accuracy: 0.7673\n",
            "\n",
            "Epoch 00063: val_loss did not improve from 0.74418\n",
            "Epoch 64/100\n",
            "205/205 [==============================] - 1s 3ms/step - loss: 0.9014 - accuracy: 0.6957 - val_loss: 0.7650 - val_accuracy: 0.7627\n",
            "\n",
            "Epoch 00064: val_loss did not improve from 0.74418\n",
            "Epoch 65/100\n",
            "205/205 [==============================] - 1s 3ms/step - loss: 0.9218 - accuracy: 0.6845 - val_loss: 0.7652 - val_accuracy: 0.7554\n",
            "\n",
            "Epoch 00065: val_loss did not improve from 0.74418\n",
            "Epoch 66/100\n",
            "205/205 [==============================] - 1s 3ms/step - loss: 0.9309 - accuracy: 0.6815 - val_loss: 0.7506 - val_accuracy: 0.7687\n",
            "\n",
            "Epoch 00066: val_loss did not improve from 0.74418\n",
            "Epoch 67/100\n",
            "205/205 [==============================] - 1s 3ms/step - loss: 0.9155 - accuracy: 0.6900 - val_loss: 0.7423 - val_accuracy: 0.7700\n",
            "\n",
            "Epoch 00067: val_loss improved from 0.74418 to 0.74227, saving model to saved_models/audio_classification.hdf5\n",
            "Epoch 68/100\n",
            "205/205 [==============================] - 1s 3ms/step - loss: 0.9222 - accuracy: 0.6911 - val_loss: 0.7366 - val_accuracy: 0.7710\n",
            "\n",
            "Epoch 00068: val_loss improved from 0.74227 to 0.73657, saving model to saved_models/audio_classification.hdf5\n",
            "Epoch 69/100\n",
            "205/205 [==============================] - 1s 3ms/step - loss: 0.9093 - accuracy: 0.6951 - val_loss: 0.7374 - val_accuracy: 0.7792\n",
            "\n",
            "Epoch 00069: val_loss did not improve from 0.73657\n",
            "Epoch 70/100\n",
            "205/205 [==============================] - 1s 3ms/step - loss: 0.9256 - accuracy: 0.6925 - val_loss: 0.7548 - val_accuracy: 0.7668\n",
            "\n",
            "Epoch 00070: val_loss did not improve from 0.73657\n",
            "Epoch 71/100\n",
            "205/205 [==============================] - 1s 3ms/step - loss: 0.9143 - accuracy: 0.6897 - val_loss: 0.7542 - val_accuracy: 0.7595\n",
            "\n",
            "Epoch 00071: val_loss did not improve from 0.73657\n",
            "Epoch 72/100\n",
            "205/205 [==============================] - 1s 3ms/step - loss: 0.8999 - accuracy: 0.6989 - val_loss: 0.7489 - val_accuracy: 0.7645\n",
            "\n",
            "Epoch 00072: val_loss did not improve from 0.73657\n",
            "Epoch 73/100\n",
            "205/205 [==============================] - 1s 3ms/step - loss: 0.9318 - accuracy: 0.6825 - val_loss: 0.7815 - val_accuracy: 0.7554\n",
            "\n",
            "Epoch 00073: val_loss did not improve from 0.73657\n",
            "Epoch 74/100\n",
            "205/205 [==============================] - 1s 3ms/step - loss: 0.8988 - accuracy: 0.6946 - val_loss: 0.7266 - val_accuracy: 0.7723\n",
            "\n",
            "Epoch 00074: val_loss improved from 0.73657 to 0.72661, saving model to saved_models/audio_classification.hdf5\n",
            "Epoch 75/100\n",
            "205/205 [==============================] - 1s 3ms/step - loss: 0.8965 - accuracy: 0.6894 - val_loss: 0.7273 - val_accuracy: 0.7687\n",
            "\n",
            "Epoch 00075: val_loss did not improve from 0.72661\n",
            "Epoch 76/100\n",
            "205/205 [==============================] - 1s 3ms/step - loss: 0.9076 - accuracy: 0.6926 - val_loss: 0.7426 - val_accuracy: 0.7673\n",
            "\n",
            "Epoch 00076: val_loss did not improve from 0.72661\n",
            "Epoch 77/100\n",
            "205/205 [==============================] - 1s 3ms/step - loss: 0.9121 - accuracy: 0.6935 - val_loss: 0.7502 - val_accuracy: 0.7645\n",
            "\n",
            "Epoch 00077: val_loss did not improve from 0.72661\n",
            "Epoch 78/100\n",
            "205/205 [==============================] - 1s 3ms/step - loss: 0.9170 - accuracy: 0.6964 - val_loss: 0.7444 - val_accuracy: 0.7705\n",
            "\n",
            "Epoch 00078: val_loss did not improve from 0.72661\n",
            "Epoch 79/100\n",
            "205/205 [==============================] - 1s 3ms/step - loss: 0.8998 - accuracy: 0.6903 - val_loss: 0.7522 - val_accuracy: 0.7623\n",
            "\n",
            "Epoch 00079: val_loss did not improve from 0.72661\n",
            "Epoch 80/100\n",
            "205/205 [==============================] - 1s 3ms/step - loss: 0.9205 - accuracy: 0.6906 - val_loss: 0.7505 - val_accuracy: 0.7682\n",
            "\n",
            "Epoch 00080: val_loss did not improve from 0.72661\n",
            "Epoch 81/100\n",
            "205/205 [==============================] - 1s 3ms/step - loss: 0.9160 - accuracy: 0.6920 - val_loss: 0.7367 - val_accuracy: 0.7728\n",
            "\n",
            "Epoch 00081: val_loss did not improve from 0.72661\n",
            "Epoch 82/100\n",
            "205/205 [==============================] - 1s 3ms/step - loss: 0.8847 - accuracy: 0.6957 - val_loss: 0.7538 - val_accuracy: 0.7659\n",
            "\n",
            "Epoch 00082: val_loss did not improve from 0.72661\n",
            "Epoch 83/100\n",
            "205/205 [==============================] - 1s 3ms/step - loss: 0.8918 - accuracy: 0.6992 - val_loss: 0.7532 - val_accuracy: 0.7769\n",
            "\n",
            "Epoch 00083: val_loss did not improve from 0.72661\n",
            "Epoch 84/100\n",
            "205/205 [==============================] - 1s 3ms/step - loss: 0.8937 - accuracy: 0.6929 - val_loss: 0.7303 - val_accuracy: 0.7655\n",
            "\n",
            "Epoch 00084: val_loss did not improve from 0.72661\n",
            "Epoch 85/100\n",
            "205/205 [==============================] - 1s 3ms/step - loss: 0.9094 - accuracy: 0.6952 - val_loss: 0.7443 - val_accuracy: 0.7714\n",
            "\n",
            "Epoch 00085: val_loss did not improve from 0.72661\n",
            "Epoch 86/100\n",
            "205/205 [==============================] - 1s 3ms/step - loss: 0.8969 - accuracy: 0.6958 - val_loss: 0.7309 - val_accuracy: 0.7783\n",
            "\n",
            "Epoch 00086: val_loss did not improve from 0.72661\n",
            "Epoch 87/100\n",
            "205/205 [==============================] - 1s 3ms/step - loss: 0.8956 - accuracy: 0.6974 - val_loss: 0.7525 - val_accuracy: 0.7581\n",
            "\n",
            "Epoch 00087: val_loss did not improve from 0.72661\n",
            "Epoch 88/100\n",
            "205/205 [==============================] - 1s 3ms/step - loss: 0.9065 - accuracy: 0.6903 - val_loss: 0.7461 - val_accuracy: 0.7636\n",
            "\n",
            "Epoch 00088: val_loss did not improve from 0.72661\n",
            "Epoch 89/100\n",
            "205/205 [==============================] - 1s 3ms/step - loss: 0.8929 - accuracy: 0.7009 - val_loss: 0.7264 - val_accuracy: 0.7820\n",
            "\n",
            "Epoch 00089: val_loss improved from 0.72661 to 0.72635, saving model to saved_models/audio_classification.hdf5\n",
            "Epoch 90/100\n",
            "205/205 [==============================] - 1s 3ms/step - loss: 0.9145 - accuracy: 0.6946 - val_loss: 0.7447 - val_accuracy: 0.7664\n",
            "\n",
            "Epoch 00090: val_loss did not improve from 0.72635\n",
            "Epoch 91/100\n",
            "205/205 [==============================] - 1s 3ms/step - loss: 0.8845 - accuracy: 0.6984 - val_loss: 0.7242 - val_accuracy: 0.7691\n",
            "\n",
            "Epoch 00091: val_loss improved from 0.72635 to 0.72419, saving model to saved_models/audio_classification.hdf5\n",
            "Epoch 92/100\n",
            "205/205 [==============================] - 1s 3ms/step - loss: 0.8877 - accuracy: 0.7006 - val_loss: 0.7500 - val_accuracy: 0.7636\n",
            "\n",
            "Epoch 00092: val_loss did not improve from 0.72419\n",
            "Epoch 93/100\n",
            "205/205 [==============================] - 1s 3ms/step - loss: 0.8884 - accuracy: 0.6975 - val_loss: 0.7248 - val_accuracy: 0.7714\n",
            "\n",
            "Epoch 00093: val_loss did not improve from 0.72419\n",
            "Epoch 94/100\n",
            "205/205 [==============================] - 1s 3ms/step - loss: 0.8991 - accuracy: 0.6888 - val_loss: 0.7496 - val_accuracy: 0.7682\n",
            "\n",
            "Epoch 00094: val_loss did not improve from 0.72419\n",
            "Epoch 95/100\n",
            "205/205 [==============================] - 1s 3ms/step - loss: 0.9049 - accuracy: 0.6854 - val_loss: 0.7309 - val_accuracy: 0.7760\n",
            "\n",
            "Epoch 00095: val_loss did not improve from 0.72419\n",
            "Epoch 96/100\n",
            "205/205 [==============================] - 1s 3ms/step - loss: 0.8875 - accuracy: 0.6996 - val_loss: 0.7390 - val_accuracy: 0.7618\n",
            "\n",
            "Epoch 00096: val_loss did not improve from 0.72419\n",
            "Epoch 97/100\n",
            "205/205 [==============================] - 1s 3ms/step - loss: 0.8686 - accuracy: 0.6986 - val_loss: 0.7274 - val_accuracy: 0.7636\n",
            "\n",
            "Epoch 00097: val_loss did not improve from 0.72419\n",
            "Epoch 98/100\n",
            "205/205 [==============================] - 1s 3ms/step - loss: 0.8911 - accuracy: 0.6967 - val_loss: 0.7756 - val_accuracy: 0.7485\n",
            "\n",
            "Epoch 00098: val_loss did not improve from 0.72419\n",
            "Epoch 99/100\n",
            "205/205 [==============================] - 1s 3ms/step - loss: 0.8970 - accuracy: 0.7013 - val_loss: 0.7450 - val_accuracy: 0.7522\n",
            "\n",
            "Epoch 00099: val_loss did not improve from 0.72419\n",
            "Epoch 100/100\n",
            "205/205 [==============================] - 1s 3ms/step - loss: 0.8922 - accuracy: 0.6980 - val_loss: 0.7430 - val_accuracy: 0.7710\n",
            "\n",
            "Epoch 00100: val_loss did not improve from 0.72419\n",
            "Training completed in time:  0:01:04.368925\n"
          ],
          "name": "stdout"
        }
      ]
    },
    {
      "cell_type": "code",
      "metadata": {
        "colab": {
          "base_uri": "https://localhost:8080/"
        },
        "id": "kbIUpDqAR79S",
        "outputId": "63502832-42b4-4169-c4b1-3f06f31a368e"
      },
      "source": [
        "test_accuracy=model.evaluate(X_test,y_test,verbose=0)\n",
        "print(test_accuracy[1])"
      ],
      "execution_count": 39,
      "outputs": [
        {
          "output_type": "stream",
          "text": [
            "0.7709574103355408\n"
          ],
          "name": "stdout"
        }
      ]
    },
    {
      "cell_type": "code",
      "metadata": {
        "colab": {
          "base_uri": "https://localhost:8080/"
        },
        "id": "JI0xltZXSCm5",
        "outputId": "355adc86-63f2-465e-c3d0-a6ce302d9040"
      },
      "source": [
        "prediction_feature=model.predict_classes(X_test)"
      ],
      "execution_count": 40,
      "outputs": [
        {
          "output_type": "stream",
          "text": [
            "/usr/local/lib/python3.7/dist-packages/tensorflow/python/keras/engine/sequential.py:455: UserWarning: `model.predict_classes()` is deprecated and will be removed after 2021-01-01. Please use instead:* `np.argmax(model.predict(x), axis=-1)`,   if your model does multi-class classification   (e.g. if it uses a `softmax` last-layer activation).* `(model.predict(x) > 0.5).astype(\"int32\")`,   if your model does binary classification   (e.g. if it uses a `sigmoid` last-layer activation).\n",
            "  warnings.warn('`model.predict_classes()` is deprecated and '\n"
          ],
          "name": "stderr"
        }
      ]
    },
    {
      "cell_type": "code",
      "metadata": {
        "colab": {
          "base_uri": "https://localhost:8080/"
        },
        "id": "qiOAYLlhSCbJ",
        "outputId": "aeb59d94-dba6-4170-8392-c5e432fd52ca"
      },
      "source": [
        "\n",
        "X_test[1]"
      ],
      "execution_count": 41,
      "outputs": [
        {
          "output_type": "execute_result",
          "data": {
            "text/plain": [
              "array([-466.1843    ,    1.5388287 ,  -34.397358  ,   35.715336  ,\n",
              "        -15.16693   ,  -18.850813  ,   -0.7415814 ,  -15.999888  ,\n",
              "        -21.354332  ,    7.650683  ,  -29.03145   ,  -19.142824  ,\n",
              "         -2.6798913 ,   -8.466883  ,  -14.7660475 ,   -7.004778  ,\n",
              "         -7.103754  ,    8.887754  ,   14.911873  ,   21.47102   ,\n",
              "         21.336626  ,    0.9169517 ,  -18.795404  ,   -5.001721  ,\n",
              "         -0.70152706,    2.9139898 ,   -6.710599  ,  -16.638536  ,\n",
              "         -9.821647  ,   12.8619585 ,    0.6552978 ,  -23.953394  ,\n",
              "        -15.200551  ,    9.210791  ,   10.419799  ,   -0.57916135,\n",
              "         -1.2440345 ,   17.722294  ,   13.837573  ,   -5.164349  ],\n",
              "      dtype=float32)"
            ]
          },
          "metadata": {
            "tags": []
          },
          "execution_count": 41
        }
      ]
    },
    {
      "cell_type": "code",
      "metadata": {
        "colab": {
          "base_uri": "https://localhost:8080/"
        },
        "id": "EBNBpofnSFN4",
        "outputId": "b04d70d1-c4c2-48cd-9f3e-f98acd41e766"
      },
      "source": [
        "prediction_feature.shape"
      ],
      "execution_count": 42,
      "outputs": [
        {
          "output_type": "execute_result",
          "data": {
            "text/plain": [
              "(2183,)"
            ]
          },
          "metadata": {
            "tags": []
          },
          "execution_count": 42
        }
      ]
    },
    {
      "cell_type": "markdown",
      "metadata": {
        "id": "zvexRBpCSIfY"
      },
      "source": [
        "\n",
        "##Testing Some Test Audio Data\n",
        "Steps\n",
        "\n",
        "\n",
        "*   Preprocess the new audio data\n",
        "*   predict the classes\n",
        "*   Invere transform your Predicted Label"
      ]
    },
    {
      "cell_type": "code",
      "metadata": {
        "id": "mtP0fCulURE3"
      },
      "source": [
        "from sklearn.preprocessing import LabelEncoder"
      ],
      "execution_count": 43,
      "outputs": []
    },
    {
      "cell_type": "code",
      "metadata": {
        "colab": {
          "base_uri": "https://localhost:8080/"
        },
        "id": "3SJIAMWQSFK6",
        "outputId": "23242e0a-7f4b-4bfc-a9d6-a6c7911cab2d"
      },
      "source": [
        "filename=\"/content/UrbanSound8K/audio/fold5/100852-0-0-26.wav\"\n",
        "\n",
        "pre_f= features_extractor(filename)\n",
        "pre_f=pre_f.reshape(1,-1)\n",
        "model.predict_classes(pre_f)"
      ],
      "execution_count": 46,
      "outputs": [
        {
          "output_type": "stream",
          "text": [
            "/usr/local/lib/python3.7/dist-packages/tensorflow/python/keras/engine/sequential.py:455: UserWarning: `model.predict_classes()` is deprecated and will be removed after 2021-01-01. Please use instead:* `np.argmax(model.predict(x), axis=-1)`,   if your model does multi-class classification   (e.g. if it uses a `softmax` last-layer activation).* `(model.predict(x) > 0.5).astype(\"int32\")`,   if your model does binary classification   (e.g. if it uses a `sigmoid` last-layer activation).\n",
            "  warnings.warn('`model.predict_classes()` is deprecated and '\n"
          ],
          "name": "stderr"
        },
        {
          "output_type": "execute_result",
          "data": {
            "text/plain": [
              "array([9])"
            ]
          },
          "metadata": {
            "tags": []
          },
          "execution_count": 46
        }
      ]
    },
    {
      "cell_type": "code",
      "metadata": {
        "colab": {
          "base_uri": "https://localhost:8080/"
        },
        "id": "CzaNhUJlSFHw",
        "outputId": "678392e2-3f87-4deb-ddf0-2f324c3119b6"
      },
      "source": [
        "# output is array[9]  mans 9th index of array of labels\n",
        "print(\"Classes are -\\n\",metadata['class'].unique())\n",
        "print(\"Class 9 is -\\n\",metadata['class'].unique()[9])\n"
      ],
      "execution_count": 51,
      "outputs": [
        {
          "output_type": "stream",
          "text": [
            "Classes are -\n",
            " ['dog_bark' 'children_playing' 'car_horn' 'air_conditioner' 'street_music'\n",
            " 'gun_shot' 'siren' 'engine_idling' 'jackhammer' 'drilling']\n",
            "Class 9 is -\n",
            " drilling\n"
          ],
          "name": "stdout"
        }
      ]
    },
    {
      "cell_type": "code",
      "metadata": {
        "id": "x6QpQHBZW54p"
      },
      "source": [
        ""
      ],
      "execution_count": null,
      "outputs": []
    }
  ]
}